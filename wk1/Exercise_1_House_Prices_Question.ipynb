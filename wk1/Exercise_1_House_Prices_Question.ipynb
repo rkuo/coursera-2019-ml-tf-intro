{
  "nbformat": 4,
  "nbformat_minor": 0,
  "metadata": {
    "colab": {
      "name": "Exercise 1 - House Prices - Question.ipynb",
      "version": "0.3.2",
      "provenance": []
    },
    "kernelspec": {
      "name": "python3",
      "display_name": "Python 3"
    }
  },
  "cells": [
    {
      "metadata": {
        "id": "mw2VBrBcgvGa",
        "colab_type": "text"
      },
      "cell_type": "markdown",
      "source": [
        "In this exercise you'll try to build a neural network that predicts the price of a house according to a simple formula.\n",
        "\n",
        "So, imagine if house pricing was as easy as a house costs 50k + 50k per bedroom, so that a 1 bedroom house costs 100k, a 2 bedroom house costs 150k etc.\n",
        "\n",
        "How would you create a neural network that learns this relationship so that it would predict a 7 bedroom house as costing close to 400k etc.\n",
        "\n",
        "Hint: Your network might work better if you scale the house price down. You don't have to give the answer 400...it might be better to create something that predicts the number 4, and then your answer is in the 'hundreds of thousands' etc."
      ]
    },
    {
      "metadata": {
        "id": "PUNO2E6SeURH",
        "colab_type": "code",
        "colab": {
          "base_uri": "https://localhost:8080/",
          "height": 68
        },
        "outputId": "1445d843-7869-4c5b-a752-2f007277abce"
      },
      "cell_type": "code",
      "source": [
        "import tensorflow as tf\n",
        "import numpy as np\n",
        "from tensorflow import keras\n",
        "\n",
        "print(tf.__version__)\n",
        "print(np.__version__)\n",
        "print(keras.__version__)"
      ],
      "execution_count": 2,
      "outputs": [
        {
          "output_type": "stream",
          "text": [
            "1.13.1\n",
            "1.14.6\n",
            "2.2.4-tf\n"
          ],
          "name": "stdout"
        }
      ]
    },
    {
      "metadata": {
        "id": "Al-FYdDDP-_A",
        "colab_type": "code",
        "colab": {
          "base_uri": "https://localhost:8080/",
          "height": 139
        },
        "outputId": "14d500cd-7fcb-4d10-a3a4-5863380724bc"
      },
      "cell_type": "code",
      "source": [
        "model = keras.Sequential([keras.layers.Dense(units=1, input_shape=[1])])\n",
        "model.compile(optimizer='sgd', loss='mean_squared_error')"
      ],
      "execution_count": 4,
      "outputs": [
        {
          "output_type": "stream",
          "text": [
            "WARNING:tensorflow:From /usr/local/lib/python3.6/dist-packages/tensorflow/python/ops/resource_variable_ops.py:435: colocate_with (from tensorflow.python.framework.ops) is deprecated and will be removed in a future version.\n",
            "Instructions for updating:\n",
            "Colocations handled automatically by placer.\n",
            "WARNING:tensorflow:From /usr/local/lib/python3.6/dist-packages/tensorflow/python/keras/utils/losses_utils.py:170: to_float (from tensorflow.python.ops.math_ops) is deprecated and will be removed in a future version.\n",
            "Instructions for updating:\n",
            "Use tf.cast instead.\n"
          ],
          "name": "stdout"
        }
      ]
    },
    {
      "metadata": {
        "id": "3uWos0nFQG-r",
        "colab_type": "code",
        "colab": {}
      },
      "cell_type": "code",
      "source": [
        "xs = np.array([1, 2, 3, 4, 5] , dtype=float)          # number of bedroom\n",
        "ys = np.array([1, 1.5, 2.0, 2.5, 3.0], dtype=float)   # price in $100000"
      ],
      "execution_count": 0,
      "outputs": []
    },
    {
      "metadata": {
        "id": "12WHJOldQKr7",
        "colab_type": "code",
        "colab": {
          "base_uri": "https://localhost:8080/",
          "height": 1734
        },
        "outputId": "fda30627-1487-48fc-9cbb-07e8a9776ca9"
      },
      "cell_type": "code",
      "source": [
        "model.fit(xs, ys, epochs=50)"
      ],
      "execution_count": 9,
      "outputs": [
        {
          "output_type": "stream",
          "text": [
            "Epoch 1/50\n",
            "5/5 [==============================] - 0s 780us/sample - loss: 0.0026\n",
            "Epoch 2/50\n",
            "5/5 [==============================] - 0s 479us/sample - loss: 0.0026\n",
            "Epoch 3/50\n",
            "5/5 [==============================] - 0s 1ms/sample - loss: 0.0026\n",
            "Epoch 4/50\n",
            "5/5 [==============================] - 0s 231us/sample - loss: 0.0026\n",
            "Epoch 5/50\n",
            "5/5 [==============================] - 0s 344us/sample - loss: 0.0026\n",
            "Epoch 6/50\n",
            "5/5 [==============================] - 0s 389us/sample - loss: 0.0026\n",
            "Epoch 7/50\n",
            "5/5 [==============================] - 0s 229us/sample - loss: 0.0025\n",
            "Epoch 8/50\n",
            "5/5 [==============================] - 0s 201us/sample - loss: 0.0025\n",
            "Epoch 9/50\n",
            "5/5 [==============================] - 0s 272us/sample - loss: 0.0025\n",
            "Epoch 10/50\n",
            "5/5 [==============================] - 0s 224us/sample - loss: 0.0025\n",
            "Epoch 11/50\n",
            "5/5 [==============================] - 0s 350us/sample - loss: 0.0025\n",
            "Epoch 12/50\n",
            "5/5 [==============================] - 0s 392us/sample - loss: 0.0025\n",
            "Epoch 13/50\n",
            "5/5 [==============================] - 0s 399us/sample - loss: 0.0024\n",
            "Epoch 14/50\n",
            "5/5 [==============================] - 0s 465us/sample - loss: 0.0024\n",
            "Epoch 15/50\n",
            "5/5 [==============================] - 0s 350us/sample - loss: 0.0024\n",
            "Epoch 16/50\n",
            "5/5 [==============================] - 0s 469us/sample - loss: 0.0024\n",
            "Epoch 17/50\n",
            "5/5 [==============================] - 0s 572us/sample - loss: 0.0024\n",
            "Epoch 18/50\n",
            "5/5 [==============================] - 0s 393us/sample - loss: 0.0024\n",
            "Epoch 19/50\n",
            "5/5 [==============================] - 0s 334us/sample - loss: 0.0023\n",
            "Epoch 20/50\n",
            "5/5 [==============================] - 0s 355us/sample - loss: 0.0023\n",
            "Epoch 21/50\n",
            "5/5 [==============================] - 0s 356us/sample - loss: 0.0023\n",
            "Epoch 22/50\n",
            "5/5 [==============================] - 0s 358us/sample - loss: 0.0023\n",
            "Epoch 23/50\n",
            "5/5 [==============================] - 0s 333us/sample - loss: 0.0023\n",
            "Epoch 24/50\n",
            "5/5 [==============================] - 0s 380us/sample - loss: 0.0023\n",
            "Epoch 25/50\n",
            "5/5 [==============================] - 0s 338us/sample - loss: 0.0022\n",
            "Epoch 26/50\n",
            "5/5 [==============================] - 0s 344us/sample - loss: 0.0022\n",
            "Epoch 27/50\n",
            "5/5 [==============================] - 0s 438us/sample - loss: 0.0022\n",
            "Epoch 28/50\n",
            "5/5 [==============================] - 0s 353us/sample - loss: 0.0022\n",
            "Epoch 29/50\n",
            "5/5 [==============================] - 0s 352us/sample - loss: 0.0022\n",
            "Epoch 30/50\n",
            "5/5 [==============================] - 0s 306us/sample - loss: 0.0022\n",
            "Epoch 31/50\n",
            "5/5 [==============================] - 0s 305us/sample - loss: 0.0022\n",
            "Epoch 32/50\n",
            "5/5 [==============================] - 0s 281us/sample - loss: 0.0021\n",
            "Epoch 33/50\n",
            "5/5 [==============================] - 0s 271us/sample - loss: 0.0021\n",
            "Epoch 34/50\n",
            "5/5 [==============================] - 0s 348us/sample - loss: 0.0021\n",
            "Epoch 35/50\n",
            "5/5 [==============================] - 0s 352us/sample - loss: 0.0021\n",
            "Epoch 36/50\n",
            "5/5 [==============================] - 0s 279us/sample - loss: 0.0021\n",
            "Epoch 37/50\n",
            "5/5 [==============================] - 0s 268us/sample - loss: 0.0021\n",
            "Epoch 38/50\n",
            "5/5 [==============================] - 0s 1ms/sample - loss: 0.0021\n",
            "Epoch 39/50\n",
            "5/5 [==============================] - 0s 309us/sample - loss: 0.0020\n",
            "Epoch 40/50\n",
            "5/5 [==============================] - 0s 356us/sample - loss: 0.0020\n",
            "Epoch 41/50\n",
            "5/5 [==============================] - 0s 280us/sample - loss: 0.0020\n",
            "Epoch 42/50\n",
            "5/5 [==============================] - 0s 260us/sample - loss: 0.0020\n",
            "Epoch 43/50\n",
            "5/5 [==============================] - 0s 266us/sample - loss: 0.0020\n",
            "Epoch 44/50\n",
            "5/5 [==============================] - 0s 369us/sample - loss: 0.0020\n",
            "Epoch 45/50\n",
            "5/5 [==============================] - 0s 306us/sample - loss: 0.0020\n",
            "Epoch 46/50\n",
            "5/5 [==============================] - 0s 271us/sample - loss: 0.0019\n",
            "Epoch 47/50\n",
            "5/5 [==============================] - 0s 272us/sample - loss: 0.0019\n",
            "Epoch 48/50\n",
            "5/5 [==============================] - 0s 293us/sample - loss: 0.0019\n",
            "Epoch 49/50\n",
            "5/5 [==============================] - 0s 291us/sample - loss: 0.0019\n",
            "Epoch 50/50\n",
            "5/5 [==============================] - 0s 314us/sample - loss: 0.0019\n"
          ],
          "name": "stdout"
        },
        {
          "output_type": "execute_result",
          "data": {
            "text/plain": [
              "<tensorflow.python.keras.callbacks.History at 0x7f9fd5514e10>"
            ]
          },
          "metadata": {
            "tags": []
          },
          "execution_count": 9
        }
      ]
    },
    {
      "metadata": {
        "id": "Z4M9124oQn4G",
        "colab_type": "code",
        "colab": {
          "base_uri": "https://localhost:8080/",
          "height": 34
        },
        "outputId": "405aa4aa-1eb3-423d-abba-ea67f20d3959"
      },
      "cell_type": "code",
      "source": [
        "print(model.predict([7.0]))"
      ],
      "execution_count": 10,
      "outputs": [
        {
          "output_type": "stream",
          "text": [
            "[[4.0955095]]\n"
          ],
          "name": "stdout"
        }
      ]
    }
  ]
}