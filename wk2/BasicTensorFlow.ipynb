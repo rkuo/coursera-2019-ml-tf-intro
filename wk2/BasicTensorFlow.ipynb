{
  "nbformat": 4,
  "nbformat_minor": 0,
  "metadata": {
    "colab": {
      "name": "BasicTensorFlow",
      "version": "0.3.2",
      "provenance": [],
      "toc_visible": true
    },
    "kernelspec": {
      "name": "python3",
      "display_name": "Python 3"
    }
  },
  "cells": [
    {
      "metadata": {
        "id": "9qYQdCxC5ks3",
        "colab_type": "text"
      },
      "cell_type": "markdown",
      "source": [
        "# Basic TensorFlow\n",
        "This is a note focus on understanding what is a Tensor and how to use it in TensorFlow. Most of notes are excerpted from articles (source links are provided). "
      ]
    },
    {
      "metadata": {
        "id": "e9dYjmue5URu",
        "colab_type": "text"
      },
      "cell_type": "markdown",
      "source": [
        "From [Understanding Tensorflow using Go – P. Galeone’s blog](https://pgaleone.eu/tensorflow/go/2017/05/29/understanding-tensorflow-using-go/)\n",
        "\n",
        "**Understand Tensorflow structure**\n",
        "\n",
        "Let’s repeat what Tensorflow is (kept from the [Tensorflow website](https://www.tensorflow.org/) , the emphasis is mine):\n",
        "\n",
        "> *TensorFlow™ is an open source software library for numerical computation using data flow graphs. Nodes in the graph **represent** mathematical operations, while the graph edges **represent** the multidimensional data arrays (tensors) communicated between them.*\n",
        "\n",
        "We can think of Tensorflow as a descriptive language, a bit like SQL, in which you describe what you want and let the underlying engine (the database) parse your query, check for syntactic and semantic errors, convert it to its private representation, optimize it and compute the results: all this to give you the correct results.\n",
        "\n",
        "Therefore, what we really do when we use any of the available APIs is to describe a graph: the evaluation of the graph starts when we place it into a Session and explicitly decide to Run the graph within the Session.\n",
        "\n",
        "So, to better understand TensorFlow, we need to understand its: \n",
        "\n",
        "- edge node, a Tensor, which holds values,\n",
        "- graph, computational network, which describes the algorithm."
      ]
    },
    {
      "metadata": {
        "id": "EJ82qXK4N5Mf",
        "colab_type": "text"
      },
      "cell_type": "markdown",
      "source": [
        "## Background - Numpy Data Type"
      ]
    },
    {
      "metadata": {
        "id": "DgjQyq8fkmRH",
        "colab_type": "code",
        "colab": {}
      },
      "cell_type": "code",
      "source": [
        "import numpy as np"
      ],
      "execution_count": 0,
      "outputs": []
    },
    {
      "metadata": {
        "id": "HYEbJPtxshuX",
        "colab_type": "code",
        "outputId": "ae6caf05-884f-4bb5-94fc-a57da8a4733a",
        "colab": {
          "base_uri": "https://localhost:8080/",
          "height": 102
        }
      },
      "cell_type": "code",
      "source": [
        "# a scalar\n",
        "\n",
        "# create an object name=b and value=3, \n",
        "a = np.int(3)\n",
        "print('int', a)\n",
        "# print(a.size)\n",
        "# print(a.shape), this will give error, scalar has no size and shape\n",
        "\n",
        "a = np.int(5)   # can re-assign\n",
        "print('int', a)\n",
        "\n",
        "b = np.float32(3.0)\n",
        "print('float32', b)\n",
        "# print(b.shape), object can be a float, but it is still a scalar, which has no size and shape\n",
        "print(b.dtype, b)   # use dtype for data type \n",
        "\n",
        "c = np.str('abcd')\n",
        "print(c)\n",
        "# print(d.dtype) -> AttributeError: 'str' object has no attribute 'dtype'"
      ],
      "execution_count": 31,
      "outputs": [
        {
          "output_type": "stream",
          "text": [
            "int 3\n",
            "int 5\n",
            "float32 3.0\n",
            "float32 3.0\n",
            "abcd\n"
          ],
          "name": "stdout"
        }
      ]
    },
    {
      "metadata": {
        "id": "Mi6RlvQuniqU",
        "colab_type": "code",
        "outputId": "b8f2be64-ee03-44cb-ba02-2606f30ca4c4",
        "colab": {
          "base_uri": "https://localhost:8080/",
          "height": 68
        }
      },
      "cell_type": "code",
      "source": [
        "# a vector\n",
        "\n",
        "d = np.arange(12)\n",
        "print(d)\n",
        "print('type is', d.dtype)\n",
        "print('shape is', d.shape)\n",
        "# without print, it will only display the last value"
      ],
      "execution_count": 32,
      "outputs": [
        {
          "output_type": "stream",
          "text": [
            "[ 0  1  2  3  4  5  6  7  8  9 10 11]\n",
            "type is int64\n",
            "shape is (12,)\n"
          ],
          "name": "stdout"
        }
      ]
    },
    {
      "metadata": {
        "id": "ON3ezPxeok4d",
        "colab_type": "text"
      },
      "cell_type": "markdown",
      "source": [
        "a'D0 is 12; rank is 1 and there is not D1. This is different from (12, None); the rank is 2 and D1 is unknown. "
      ]
    },
    {
      "metadata": {
        "id": "7d1uLap8O3QW",
        "colab_type": "code",
        "outputId": "1aa97e6f-7c9d-4c93-ad96-be54c4ccf634",
        "colab": {
          "base_uri": "https://localhost:8080/",
          "height": 391
        }
      },
      "cell_type": "code",
      "source": [
        "# scalar\n",
        "e1 = np.int64(1)\n",
        "print(e1.dtype, e1)\n",
        "print(e1.shape)\n",
        "\n",
        "e2 = np.int(1)\n",
        "print(e2)\n",
        "\n",
        "# vector\n",
        "e0 = np.array([1])\n",
        "print(e0.dtype, e0)\n",
        "print(e0.shape)\n",
        "\n",
        "data3 = [1, 2, 3]   # list allows only sequential access\n",
        "print(type(data3))  # find out type\n",
        "e3 = np.array(data3)\n",
        "print(e3[0])\n",
        "\n",
        "f = np.array([(1,2,3), (4,5,6)], dtype = float)\n",
        "print('vector', f)\n",
        "print('vector', f[0])\n",
        "\n",
        "print('ndim', f.ndim)\n",
        "print('shape-0', f.shape[0])\n",
        "print('shape-1', f.shape[1])\n",
        "\n",
        "# matrix\n",
        "g = np.array([[(1,2,3), (4,5,6)], [(7,8,9), (10,11,12)]], dtype = float)\n",
        "print('matrix', g)\n",
        "print('matrix dtype', g.dtype)\n",
        "print('matrix - 2nd array', g[1])\n",
        "\n",
        "print('shape', g.shape)  # ===> (2, 2, 3) 2 by 2 matrix with 3 elements in each array, total 2x2x3 = 12 data"
      ],
      "execution_count": 33,
      "outputs": [
        {
          "output_type": "stream",
          "text": [
            "int64 1\n",
            "()\n",
            "1\n",
            "int64 [1]\n",
            "(1,)\n",
            "<class 'list'>\n",
            "1\n",
            "vector [[1. 2. 3.]\n",
            " [4. 5. 6.]]\n",
            "vector [1. 2. 3.]\n",
            "ndim 2\n",
            "shape-0 2\n",
            "shape-1 3\n",
            "matrix [[[ 1.  2.  3.]\n",
            "  [ 4.  5.  6.]]\n",
            "\n",
            " [[ 7.  8.  9.]\n",
            "  [10. 11. 12.]]]\n",
            "matrix dtype float64\n",
            "matrix - 2nd array [[ 7.  8.  9.]\n",
            " [10. 11. 12.]]\n",
            "shape (2, 2, 3)\n"
          ],
          "name": "stdout"
        }
      ]
    },
    {
      "metadata": {
        "id": "mAYat_QWPYwQ",
        "colab_type": "text"
      },
      "cell_type": "markdown",
      "source": [
        "A data buffer defined/indexed by original creation, which will be re-indexed. See   \n",
        "[what does -1 means in numpy reshape](https://stackoverflow.com/questions/18691084/what-does-1-mean-in-numpy-reshape)  \n",
        "[shape and reshape here](https://stackoverflow.com/questions/22053050/difference-between-numpy-array-shape-r-1-and-r) "
      ]
    },
    {
      "metadata": {
        "id": "JSJEqZ_amSea",
        "colab_type": "text"
      },
      "cell_type": "markdown",
      "source": [
        "we can have \n",
        "- a shape of () and be sure to work with a scalar, \n",
        "- a shape of (10) and be sure to work with a vector of size 10, \n",
        "- a shape of (10,2) and be sure to work with a matrix with 10 rows and 2 columns. "
      ]
    },
    {
      "metadata": {
        "id": "SD4ljai8kvay",
        "colab_type": "code",
        "outputId": "64d38c74-6d03-4f4c-add3-54cd9691bd74",
        "colab": {
          "base_uri": "https://localhost:8080/",
          "height": 578
        }
      },
      "cell_type": "code",
      "source": [
        "# reshape and slice\n",
        "i = np.arange(0,12)\n",
        "print(i)\n",
        "print('shape', i.shape)\n",
        "\n",
        "k = print('row \\n', i.reshape(1,-1))      # column unknown\n",
        "l = print('column \\n', i.reshape(-1,1))   # row unknown\n",
        "\n",
        "j = i.reshape(3,4)\n",
        "print(j)\n",
        "print('shape', j.shape)\n",
        "print(i.reshape(3,-1))   # 3 rows, -1 for unknown number of columns, same as above (3,4)\n",
        "\n",
        "print('default back', j.reshape(-1))\n",
        "\n",
        "print(i.reshape(2,-1))   # -1 for unknown\n",
        "print('option-C \\n', np.reshape(j, (2, 6), 'C'))           # C-like index ordering, row first, default\n",
        "print('option-F \\n', np.reshape(j, (2, -1), order='F'))    # Fortran-like index ordering, column first"
      ],
      "execution_count": 34,
      "outputs": [
        {
          "output_type": "stream",
          "text": [
            "[ 0  1  2  3  4  5  6  7  8  9 10 11]\n",
            "shape (12,)\n",
            "row \n",
            " [[ 0  1  2  3  4  5  6  7  8  9 10 11]]\n",
            "column \n",
            " [[ 0]\n",
            " [ 1]\n",
            " [ 2]\n",
            " [ 3]\n",
            " [ 4]\n",
            " [ 5]\n",
            " [ 6]\n",
            " [ 7]\n",
            " [ 8]\n",
            " [ 9]\n",
            " [10]\n",
            " [11]]\n",
            "[[ 0  1  2  3]\n",
            " [ 4  5  6  7]\n",
            " [ 8  9 10 11]]\n",
            "shape (3, 4)\n",
            "[[ 0  1  2  3]\n",
            " [ 4  5  6  7]\n",
            " [ 8  9 10 11]]\n",
            "default back [ 0  1  2  3  4  5  6  7  8  9 10 11]\n",
            "[[ 0  1  2  3  4  5]\n",
            " [ 6  7  8  9 10 11]]\n",
            "option-C \n",
            " [[ 0  1  2  3  4  5]\n",
            " [ 6  7  8  9 10 11]]\n",
            "option-F \n",
            " [[ 0  8  5  2 10  7]\n",
            " [ 4  1  9  6  3 11]]\n"
          ],
          "name": "stdout"
        }
      ]
    },
    {
      "metadata": {
        "id": "Z1EvgNzR79Js",
        "colab_type": "text"
      },
      "cell_type": "markdown",
      "source": [
        "## What is a Tensor?\n",
        "\n",
        "From:  \n",
        "[Tensors  |  TensorFlow  |  TensorFlow](https://www.tensorflow.org/guide/tensors) document.\n",
        "\n",
        "[Understanding Tensorflow’s tensors shape: static and dynamic – P. Galeone’s blog](https://pgaleone.eu/tensorflow/2018/07/28/understanding-tensorflow-tensors-shape-static-dynamic/)  \n",
        "[TensorFlow: Shapes and dynamic dimensions – metaflow-ai](https://blog.metaflow.fr/shapes-and-dynamic-dimensions-in-tensorflow-7b1fe79be363)\n",
        "\n",
        "Very briefly, a tensor is an N-dimensional array containing the same type of data (int32, bool, etc.): All you need to describe a tensor fully is its data type and the value of each of the N dimension. \n",
        "\n",
        "Every tensor has a name, a type, a rank and a shape.\n",
        "\n",
        "* The **name** uniquely identifies the tensor in the computational graphs (for a complete understanding of the importance of the tensor name and how the full name of a tensor is defined, I suggest the reading of the article [Understanding Tensorflow using Go](https://pgaleone.eu/tensorflow/go/2017/05/29/understanding-tensorflow-using-go/) ).\n",
        "* The **type** is the data type of the tensor, e.g.: a tf.float32, a tf.int64, a tf.string, …\n",
        "* The **rank**, in the Tensorflow world (that’s different from the mathematics world), is just the number of dimension of a tensor, e.g.: a scalar has rank 0, a vector has rank 1, …\n",
        "* The **shape** is the number of elements in each dimension, e.g.: a scalar has a rank 0 and an empty shape(), a vector has rank 1 and a shape of(D0), a matrix has rank 2 and a shape of(D0, D1)and so on.\n",
        "\n",
        "That’s why we describe a tensor with what we call a shape: it is a list, tuple or TensorShape of numbers containing the size of each dimension of our tensor, for example:\n",
        "\n",
        "> For a tensor of n dimensions: (**D**0, **D**1, …, **D**n-1)  \n",
        "> For a tensor of size **W** x **H** (usually called a matrix): (**W**, **H**)  \n",
        "> For a tensor of size **W** (usually called a vector): (**W**,)  \n",
        "> For a simple scalar (those are equivalent): () or (1,)\n",
        "\n",
        "> Note: (**D***, **W** and **H** are integers)\n",
        "\n",
        "> Note on the vector (1-D tensor): it is impossible to determine if a vector is a row or column vector by looking at the vector shape in TensorFlow, and in fact, it doesn’t matter. For more information please look at this stack overflow answer about NumPy notation ( which is roughly the same as TensorFlow notation): http://stackoverflow.com/questions/22053050/difference-between-numpy-array-shape-r-1-and-r\n",
        "\n",
        "Each element in the Tensor has the same data type, and the data type is always known. The shape (that is, the number of dimensions it has and the size of each dimension) might be only partially known. Most operations produce tensors of fully-known shapes if the shapes of their inputs are also fully known, but in some cases it’s only possible to find the shape of a tensor at graph execution time.\n",
        "\n",
        "Some types of tensors are special, and these will be covered in other units of the TensorFlow guide. The main ones are:\n",
        "*  [tf.Variable](https://www.tensorflow.org/api_docs/python/tf/Variable) \n",
        "*  [tf.constant](https://www.tensorflow.org/api_docs/python/tf/constant) \n",
        "*  [tf.placeholder](https://www.tensorflow.org/api_docs/python/tf/placeholder) \n",
        "*  [tf.SparseTensor](https://www.tensorflow.org/api_docs/python/tf/sparse/SparseTensor) \n",
        "\n",
        "With the exception of [tf.Variable](https://www.tensorflow.org/api_docs/python/tf/Variable) , the value of a tensor is immutable, which means that in the context of a single execution tensors only have a single value. However, evaluating the same tensor twice can return different values; for example that tensor can be the result of reading data from disk, or generating a random number.\n",
        "\n",
        "A Tensor object is a symbolic handle to the result of an operation, but does not actually hold the values of the operation's output. \n",
        "\n",
        "To find out TF profile -> [tensorflow/tensorflow/contrib/tfprof at master · tensorflow/tensorflow · GitHub](https://github.com/tensorflow/tensorflow/tree/master/tensorflow/contrib/tfprof)"
      ]
    },
    {
      "metadata": {
        "id": "96oZQCruOfTh",
        "colab_type": "text"
      },
      "cell_type": "markdown",
      "source": [
        "### tf.Varible\n"
      ]
    },
    {
      "metadata": {
        "id": "7arpWSQqSMzk",
        "colab_type": "text"
      },
      "cell_type": "markdown",
      "source": [
        "From [tensorflow doc](https://www.tensorflow.org/api_docs/python/tf/Variable)\n",
        "\n",
        "A variable maintains state in the graph across calls to run(). You add a variable to the graph by constructing an instance of the class Variable.\n",
        "\n",
        "The Variable() constructor requires an initial value for the variable, which can be a Tensor of any type and shape. The initial value defines the type and shape of the variable. After construction, the type and shape of the variable are fixed. The value can be changed using one of the assign methods.\n",
        "\n",
        "If you want to change the shape of a variable later you have to use an assign Op with validate_shape=False."
      ]
    },
    {
      "metadata": {
        "id": "FNKrqDMZLopg",
        "colab_type": "code",
        "colab": {}
      },
      "cell_type": "code",
      "source": [
        "import tensorflow as tf"
      ],
      "execution_count": 0,
      "outputs": []
    },
    {
      "metadata": {
        "id": "PjZ9AWmZMS1f",
        "colab_type": "code",
        "colab": {
          "base_uri": "https://localhost:8080/",
          "height": 34
        },
        "outputId": "6ff40508-2b7c-40c4-ccfe-b7e50a4541e5"
      },
      "cell_type": "code",
      "source": [
        "x = tf.Variable([1.0, 2.0])\n",
        "print(x)  # => <tf.Variable 'Variable_1:0' shape=(2,) dtype=float32_ref>, not value!!"
      ],
      "execution_count": 36,
      "outputs": [
        {
          "output_type": "stream",
          "text": [
            "<tf.Variable 'Variable_7:0' shape=(2,) dtype=float32_ref>\n"
          ],
          "name": "stdout"
        }
      ]
    },
    {
      "metadata": {
        "id": "Fn5hvUYxM2uw",
        "colab_type": "text"
      },
      "cell_type": "markdown",
      "source": [
        "We need to run a session to get tensor's value, see Session, Run and Eval section below. \n",
        "\n",
        "More ...   \n",
        "[Variable](https://databricks.com/tensorflow/variables)  \n",
        "[In TensorFlow, what is the difference between Session.run() and Tensor.eval()?](https://stackoverflow.com/questions/33610685/in-tensorflow-what-is-the-difference-between-session-run-and-tensor-eval/33610914#33610914)  \n",
        "[Current value of a tensor variable](https://stackoverflow.com/questions/33679382/how-do-i-get-the-current-value-of-a-variable)  \n",
        "[Using tf.Print() in TensorFlow](https://towardsdatascience.com/using-tf-print-in-tensorflow-aa26e1cff11e)\n"
      ]
    },
    {
      "metadata": {
        "id": "mWpP1E5TPy39",
        "colab_type": "text"
      },
      "cell_type": "markdown",
      "source": [
        "### tf.constant"
      ]
    },
    {
      "metadata": {
        "id": "r1Xg02A2k5C_",
        "colab_type": "code",
        "colab": {}
      },
      "cell_type": "code",
      "source": [
        "import tensorflow as tf"
      ],
      "execution_count": 0,
      "outputs": []
    },
    {
      "metadata": {
        "id": "RO5ThAzD98y_",
        "colab_type": "code",
        "colab": {
          "base_uri": "https://localhost:8080/",
          "height": 51
        },
        "outputId": "2a7a60d1-620b-47dc-e33c-d1d4e80eb1bc"
      },
      "cell_type": "code",
      "source": [
        "# Constant 1-D Tensor populated with value list.\n",
        "aTensor = tf.constant([1, 2, 3, 4, 5, 6, 7])\n",
        "print(aTensor)\n",
        "print(aTensor.eval)  # this will not print out current value of the tensor, need session."
      ],
      "execution_count": 38,
      "outputs": [
        {
          "output_type": "stream",
          "text": [
            "Tensor(\"Const_9:0\", shape=(7,), dtype=int32)\n",
            "<bound method Tensor.eval of <tf.Tensor 'Const_9:0' shape=(7,) dtype=int32>>\n"
          ],
          "name": "stdout"
        }
      ]
    },
    {
      "metadata": {
        "id": "6vtn3uSzsSYo",
        "colab_type": "code",
        "outputId": "44b1643c-1517-4506-928c-643eddfd14a2",
        "colab": {
          "base_uri": "https://localhost:8080/",
          "height": 34
        }
      },
      "cell_type": "code",
      "source": [
        "aTensor = tf.constant(0., shape=[2,3,4])\n",
        "print(aTensor) # => Tensor(\"Const:0\", shape=(2, 3, 4), dtype=float32), name of the variable is Const and value is 0"
      ],
      "execution_count": 39,
      "outputs": [
        {
          "output_type": "stream",
          "text": [
            "Tensor(\"Const_10:0\", shape=(2, 3, 4), dtype=float32)\n"
          ],
          "name": "stdout"
        }
      ]
    },
    {
      "metadata": {
        "id": "UmZU29bYP4K6",
        "colab_type": "text"
      },
      "cell_type": "markdown",
      "source": [
        "### tf.placeholder\n",
        "\n",
        "The value of a placeholder tensor will always be fed by using the feed_dict optional argument to Session.run(), Tensor.eval(), or Operation.run().\n",
        "\n"
      ]
    },
    {
      "metadata": {
        "id": "RwNR-fzKFh_M",
        "colab_type": "text"
      },
      "cell_type": "markdown",
      "source": [
        "#### Dictionary\n",
        "A dictionary is a collection which is unordered, changeable and indexed. In Python dictionaries are written with curly brackets, and they have keys and values.\n",
        "\n",
        "More ... [Doc](https://docs.python.org/3/tutorial/datastructures.html#dictionaries)  \n"
      ]
    },
    {
      "metadata": {
        "id": "Qv-Ez1DmG7CJ",
        "colab_type": "code",
        "colab": {
          "base_uri": "https://localhost:8080/",
          "height": 119
        },
        "outputId": "0d49dffc-14c6-44f9-90be-46f4cc5c5669"
      },
      "cell_type": "code",
      "source": [
        "# dictionary\n",
        "\n",
        "# create with {} and k:v pairs\n",
        "tel = {'jack': 4098, 'sape': 4139}\n",
        "# tel = dict([('jack', 4098), ('sape', 4139)])   # this is another way\n",
        "\n",
        "print(tel)\n",
        "\n",
        "# add one pair of key-value\n",
        "tel['guido'] = 4127\n",
        "\n",
        "# get all\n",
        "print(tel)\n",
        "\n",
        "# get one of them, it likes an index with [], instead of 0, 1, 2,... use key in []\n",
        "print(tel['jack'])\n",
        "\n",
        "# loop thru for getting all their value\n",
        "for k, v in tel.items():\n",
        "  print(k, v)"
      ],
      "execution_count": 13,
      "outputs": [
        {
          "output_type": "stream",
          "text": [
            "{'jack': 4098, 'sape': 4139}\n",
            "{'jack': 4098, 'sape': 4139, 'guido': 4127}\n",
            "4098\n",
            "jack 4098\n",
            "sape 4139\n",
            "guido 4127\n"
          ],
          "name": "stdout"
        }
      ]
    },
    {
      "metadata": {
        "id": "o5HPagjPuD-g",
        "colab_type": "code",
        "colab": {
          "base_uri": "https://localhost:8080/",
          "height": 102
        },
        "outputId": "803def4d-d3c2-42a4-cffe-c9fb6ffdd52b"
      },
      "cell_type": "code",
      "source": [
        "# random numbers\n",
        "\n",
        "import numpy as np\n",
        "\n",
        "rand_array_a = np.random.rand(5, 5)\n",
        "print(rand_array_a)"
      ],
      "execution_count": 2,
      "outputs": [
        {
          "output_type": "stream",
          "text": [
            "[[0.71986121 0.01991707 0.23132077 0.32643309 0.59165003]\n",
            " [0.48918368 0.6713024  0.26964629 0.39926319 0.43950775]\n",
            " [0.99559975 0.93955715 0.1214705  0.91854885 0.8478848 ]\n",
            " [0.0584083  0.25229037 0.31746804 0.41568321 0.5622505 ]\n",
            " [0.7594273  0.45491556 0.70059004 0.70512854 0.33922967]]\n"
          ],
          "name": "stdout"
        }
      ]
    },
    {
      "metadata": {
        "id": "PgvDDxdvrFR-",
        "colab_type": "code",
        "colab": {
          "base_uri": "https://localhost:8080/",
          "height": 102
        },
        "outputId": "fd0b99e1-8a6d-4774-f1e8-fefd4cd1ab29"
      },
      "cell_type": "code",
      "source": [
        "import tensorflow as tf\n",
        "\n",
        "x = tf.placeholder(tf.float32, shape=(5, 5))\n",
        "y = tf.matmul(x, x)\n",
        "\n",
        "with tf.Session() as sess:\n",
        "  #print(sess.run(y)) # => ERROR: will fail because x was not fed.\n",
        "\n",
        "  rand_array = np.random.rand(5, 5)\n",
        "  print(sess.run(y, feed_dict={x: rand_array}))  # ok."
      ],
      "execution_count": 6,
      "outputs": [
        {
          "output_type": "stream",
          "text": [
            "[[0.60779345 1.215648   1.1446795  1.9015311  1.4552698 ]\n",
            " [0.4963767  0.97697276 0.9388003  1.6166095  1.2258639 ]\n",
            " [1.1405954  1.6927263  1.48407    1.8547864  1.5270574 ]\n",
            " [0.74115604 1.4202043  1.3705989  1.8114765  1.4954237 ]\n",
            " [0.5286491  0.95301634 0.84723926 1.6967978  1.2143029 ]]\n"
          ],
          "name": "stdout"
        }
      ]
    },
    {
      "metadata": {
        "id": "Tw34ivRAP4ES",
        "colab_type": "text"
      },
      "cell_type": "markdown",
      "source": [
        "### tf.SparseTensor 疏散\n",
        "\n",
        "TensorFlow represents a sparse tensor as three separate dense tensors: `indices`, `values`, and `dense_shape`.\n",
        "\n",
        "More ... [Sparse Tensors and TFRecords](https://planspace.org/20170427-sparse_tensors_and_tfrecords/)"
      ]
    },
    {
      "metadata": {
        "id": "e-7k330_Uf0Q",
        "colab_type": "code",
        "colab": {
          "base_uri": "https://localhost:8080/",
          "height": 54
        },
        "outputId": "d35ac6dc-10d6-4651-abe1-eacfb2d5ae50"
      },
      "cell_type": "code",
      "source": [
        "import tensorflow as tf\n",
        "\n",
        "sparse = tf.SparseTensor(indices=[[0, 0], [1, 2]], values=[1, 2], dense_shape=[3, 4])\n",
        "print(sparse)   # => no value, need session or "
      ],
      "execution_count": 5,
      "outputs": [
        {
          "output_type": "stream",
          "text": [
            "SparseTensor(indices=Tensor(\"SparseTensor/indices:0\", shape=(2, 2), dtype=int64), values=Tensor(\"SparseTensor/values:0\", shape=(2,), dtype=int32), dense_shape=Tensor(\"SparseTensor/dense_shape:0\", shape=(2,), dtype=int64))\n"
          ],
          "name": "stdout"
        }
      ]
    },
    {
      "metadata": {
        "id": "aIxtflAWqWpR",
        "colab_type": "text"
      },
      "cell_type": "markdown",
      "source": [
        "## TensorFlow"
      ]
    },
    {
      "metadata": {
        "id": "9-2YZ5_3LueG",
        "colab_type": "text"
      },
      "cell_type": "markdown",
      "source": [
        "### Session, Run and Eval"
      ]
    },
    {
      "metadata": {
        "id": "aK3meI1ILfb_",
        "colab_type": "code",
        "colab": {
          "base_uri": "https://localhost:8080/",
          "height": 34
        },
        "outputId": "feaad73f-6f6a-4a67-dd03-b61dd020bac4"
      },
      "cell_type": "code",
      "source": [
        "x = tf.Variable([1.0, 2.0])\n",
        "\n",
        "init = tf.global_variables_initializer()\n",
        "\n",
        "with tf.Session() as sess:\n",
        "    sess.run(init)\n",
        "    v = sess.run(x)\n",
        "    print(v)  # it will show you the value of variable. => [1. 2.]"
      ],
      "execution_count": 40,
      "outputs": [
        {
          "output_type": "stream",
          "text": [
            "[1. 2.]\n"
          ],
          "name": "stdout"
        }
      ]
    },
    {
      "metadata": {
        "id": "LTjsuTS0OjIz",
        "colab_type": "code",
        "colab": {
          "base_uri": "https://localhost:8080/",
          "height": 85
        },
        "outputId": "85abe0d0-5cf3-4400-fbd1-c4d932c6b218"
      },
      "cell_type": "code",
      "source": [
        "t = tf.constant(2.0)\n",
        "u = tf.constant(3.0)\n",
        "tu = tf.multiply(t, u)\n",
        "ut = tf.multiply(u, t)\n",
        "\n",
        "init = tf.global_variables_initializer()\n",
        "\n",
        "with tf.Session() as sess:\n",
        "  sess.run(init)\n",
        "  print(tu, ut)       # no value, they are only a graph\n",
        "  print('tu', tu.eval())  # runs one step\n",
        "  print('ut', ut.eval())  # runs one step\n",
        "  sess.run([tu, ut])  # evaluates both tensors in a single step\n",
        "  print(sess.run([tu, ut]))"
      ],
      "execution_count": 58,
      "outputs": [
        {
          "output_type": "stream",
          "text": [
            "Tensor(\"Mul_28:0\", shape=(), dtype=float32) Tensor(\"Mul_29:0\", shape=(), dtype=float32)\n",
            "tu 6.0\n",
            "ut 6.0\n",
            "[6.0, 6.0]\n"
          ],
          "name": "stdout"
        }
      ]
    },
    {
      "metadata": {
        "id": "2GHAeORgK_IG",
        "colab_type": "text"
      },
      "cell_type": "markdown",
      "source": [
        "### InteractiveSession\n",
        "An InteractiveSession installs itself as the default session on construction. The methods tf.Tensor.eval and tf.Operation.run will use that session to run ops.\n",
        "\n",
        "This is convenient in interactive shells and IPython notebooks, as it avoids having to pass an explicit Session object to run ops."
      ]
    },
    {
      "metadata": {
        "id": "Y9PNQkFfX62-",
        "colab_type": "text"
      },
      "cell_type": "markdown",
      "source": [
        "[a shortcut for session in Jupyter](https://www.tensorflow.org/api_docs/python/tf/InteractiveSession)"
      ]
    },
    {
      "metadata": {
        "id": "oqzdjHagYUJa",
        "colab_type": "code",
        "colab": {
          "base_uri": "https://localhost:8080/",
          "height": 34
        },
        "outputId": "6b159783-04ea-4f56-94fd-5e1d7950ae59"
      },
      "cell_type": "code",
      "source": [
        "sess = tf.InteractiveSession()\n",
        "a = tf.constant(5.0)\n",
        "b = tf.constant(6.0)\n",
        "c = a * b\n",
        "# We can just use 'c.eval()' without passing 'sess'\n",
        "print(c.eval())\n",
        "sess.close()"
      ],
      "execution_count": 8,
      "outputs": [
        {
          "output_type": "stream",
          "text": [
            "30.0\n"
          ],
          "name": "stdout"
        }
      ]
    },
    {
      "metadata": {
        "id": "V5M5QFTWYlHl",
        "colab_type": "code",
        "colab": {
          "base_uri": "https://localhost:8080/",
          "height": 68
        },
        "outputId": "af5b97c8-9cf0-4610-ad38-5ce38b98798a"
      },
      "cell_type": "code",
      "source": [
        "sess = tf.InteractiveSession()\n",
        "\n",
        "sparse = tf.SparseTensor(indices=[[0, 0], [1, 2]], values=[1, 2], dense_shape=[3, 4])\n",
        "dense = tf.sparse_tensor_to_dense(sparse)\n",
        "\n",
        "print(dense.eval())   # ok \n",
        "# print(sess.run(dense))   # this is ok too \n",
        "\n",
        "sess.close()"
      ],
      "execution_count": 7,
      "outputs": [
        {
          "output_type": "stream",
          "text": [
            "[[1 0 0 0]\n",
            " [0 0 2 0]\n",
            " [0 0 0 0]]\n"
          ],
          "name": "stdout"
        }
      ]
    }
  ]
}